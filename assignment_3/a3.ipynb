{
  "cells": [
    {
      "cell_type": "markdown",
      "metadata": {
        "id": "wytJzAvRbX3_"
      },
      "source": [
        "# Assignment 3\n",
        "Submission DDL: 24.11.2024 23:59.\n",
        "\n",
        "* For the tasks that require the text answer use *Insert* > *Text cell* and provide your answer in this cell. Text cell supports Markdown.\n",
        "* Submit your work to the submission box on MyCourses. You should submit only the **.ipynb file** with your code.\n",
        "* To download the file from Google Colab use *File* > *Download* > *Download .ipynb*.\n",
        "* Submit the file with the name: A3_NAME_SURNAME_STUDENT NUMBER.ipynb\n",
        "\n",
        "**NB! Before editing the file, save a local copy to your Google Drive, otherwise your progress will be lost**"
      ]
    },
    {
      "cell_type": "markdown",
      "metadata": {
        "id": "CqXJ_gVobw9z"
      },
      "source": [
        "The assignment contains 2 main tasks:\n",
        "* **A** – Implement the Naive Bayes Classifier **(5 points)**\n",
        "* **B** – Implement the Transformer **(15 points)**\n",
        "\n",
        "Further description and specific instructions are provided within the course of the assignment. Places where you need to write your code are commented with capital leters, e.g. #YOUR CODE HERE"
      ]
    },
    {
      "cell_type": "markdown",
      "metadata": {
        "id": "Cy4r2Zcwb1Br"
      },
      "source": [
        "In the assignment you will be classifying hotel reviews from the Tripadvisor dataset."
      ]
    },
    {
      "cell_type": "code",
      "execution_count": null,
      "metadata": {
        "id": "MDBIEYP4b0h9"
      },
      "outputs": [],
      "source": [
        "# init deterministic seed\n",
        "\n",
        "seed = # YOUR CODE HERE # INPUT YOUR STUDENT NUMBER HERE, omit the letters\n",
        "assert type(seed) is int, \"Exclude letters, leave only numbers\"\n"
      ]
    },
    {
      "cell_type": "code",
      "execution_count": null,
      "metadata": {
        "id": "oskMI9y1WXi3"
      },
      "outputs": [],
      "source": [
        "# import dependencies\n",
        "import pandas as pd\n",
        "import numpy as np\n",
        "import matplotlib.pyplot as plt\n",
        "import seaborn as sns\n",
        "\n",
        "%matplotlib inline\n",
        "%config InlineBackend.figure_format='retina' # high-resolution plots\n",
        "\n",
        "from sklearn.feature_extraction.text import TfidfVectorizer\n",
        "from sklearn.naive_bayes import MultinomialNB\n",
        "from sklearn.pipeline import make_pipeline\n",
        "from sklearn.metrics import confusion_matrix, accuracy_score, classification_report\n",
        "\n",
        "# url to our dataset\n",
        "url = 'https://raw.githubusercontent.com/dsfb2/dsfb2-2024/main/assignment_3/data/tripadvisor_hotel_reviews.csv'\n",
        "\n",
        "# fix seed\n",
        "np.random.seed(seed)"
      ]
    },
    {
      "cell_type": "markdown",
      "metadata": {
        "id": "2mPAlrhEcqmf"
      },
      "source": [
        "**TASK A** – Implement the Naive Bayes Classifier **(5 points)**\n",
        "\n",
        "- **A1** - explore the dataset and consider what changes you should do. Write a short note how you should convert the ratings (Tip: computers start from 0) (**2 points**)\n",
        "- **A2** - build the Naive Bayes Classifier and report the results. Please, include, at least, the accuracy score, the classification report and the confusion matrix. Write a short report (roughly 10 sentences) about the result you get. (**3 points**)\n",
        "\n",
        "For this task there are no code snippets provided, you can take code parts from the tutorial"
      ]
    },
    {
      "cell_type": "code",
      "execution_count": null,
      "metadata": {
        "id": "O6QMGpqgeEJf"
      },
      "outputs": [],
      "source": [
        "# add as many cells as you need"
      ]
    },
    {
      "cell_type": "markdown",
      "metadata": {
        "id": "TiKvCIlgfPft"
      },
      "source": [
        "**TASK B** – Implement the Transformer **(15 points)**\n",
        "\n",
        "- **B1** - create the TravelDataset class (**5 points**)\n",
        "- **B2** - train the Transformer (**5 points**)\n",
        "- **B3** - evaluate the performance on the epoch with the lowest error and report the results. Please, include, relevant binary classification metrics, the classification report and the confusion matrix. Write a short report on the results and compare them with Naive Nayes Classifier (roughly 15 sentences). (**5 points**)\n",
        "\n",
        "The majority of the code skeleton is provided, look for `# YOUR CODE HERE` to complete functions. For obtaining results you should write your own code.\n",
        "\n",
        "Prepare all the code on Google Colab, make sure it runs and then move to Azure Lab."
      ]
    },
    {
      "cell_type": "code",
      "execution_count": null,
      "metadata": {
        "id": "OChctr5CJePR"
      },
      "outputs": [],
      "source": [
        "# install the library that contains checkpoints of models and tokenizers\n",
        "!pip install transformers"
      ]
    },
    {
      "cell_type": "code",
      "execution_count": null,
      "metadata": {
        "id": "0V0HigTyMN-h"
      },
      "outputs": [],
      "source": [
        "from transformers import BertTokenizerFast\n",
        "\n",
        "# Defining some key variables that will be used later on in the training, you can select your own parameters\n",
        "\n",
        "MAX_LEN = # YOUR CODE HERE                # max length of sequence. we will use all 512 as our text articles are long.\n",
        "TRAIN_BATCH_SIZE = # YOUR CODE HERE       # how many sequences are included in the training batch\n",
        "VALID_BATCH_SIZE = # YOUR CODE HERE       # how many sequences are included in the validation batch\n",
        "EPOCHS = # YOUR CODE HERE                 # how many epochs we will use during the training process\n",
        "LEARNING_RATE =  # YOUR CODE HERE         # our learning rate\n",
        "TOKENIZER = BertTokenizerFast.from_pretrained('bert-base-uncased', lower=True) # our tokenizer"
      ]
    },
    {
      "cell_type": "code",
      "execution_count": null,
      "metadata": {
        "id": "cRC5I21sNxHz"
      },
      "outputs": [],
      "source": [
        "import torch\n",
        "class TravelDataset(torch.utils.data.Dataset):\n",
        "\n",
        "    def __init__(self, df):\n",
        "\n",
        "        self.labels = # YOUR CODE HERE # create labels for each article\n",
        "        self.texts = # YOUR CODE HERE # create tokens for each article\n",
        "\n",
        "    def classes(self):\n",
        "        return self.labels\n",
        "\n",
        "    def __len__(self):\n",
        "        return len(self.labels)\n",
        "\n",
        "    def get_batch_labels(self, idx):\n",
        "        # Fetch a batch of labels\n",
        "        return np.array(self.labels[idx])\n",
        "\n",
        "    def get_batch_texts(self, idx):\n",
        "        # Fetch a batch of inputs\n",
        "        return self.texts[idx]\n",
        "\n",
        "    def __getitem__(self, idx):\n",
        "\n",
        "        batch_texts = self.get_batch_texts(idx)\n",
        "        batch_y = self.get_batch_labels(idx)\n",
        "\n",
        "        return batch_texts, batch_y"
      ]
    },
    {
      "cell_type": "code",
      "execution_count": null,
      "metadata": {
        "id": "bizsbF4BOtYz"
      },
      "outputs": [],
      "source": [
        "df_train, df_val = # YOUR CODE HERE\n",
        "\n",
        "print(f'Training set length is {len(df_train)} and validation set length {len(df_val)}')"
      ]
    },
    {
      "cell_type": "code",
      "execution_count": null,
      "metadata": {
        "id": "5ZdxZke7Z4-9"
      },
      "outputs": [],
      "source": [
        "from torch import nn\n",
        "from transformers import BertModel\n",
        "\n",
        "class BertClassifier(nn.Module):\n",
        "\n",
        "    def __init__(self, dropout=0.3):\n",
        "\n",
        "        super(BertClassifier, self).__init__()\n",
        "\n",
        "        self.bert = BertModel.from_pretrained('bert-base-uncased') # pre-trained transformer\n",
        "        self.dropout = nn.Dropout(dropout)                         # pool with dropout\n",
        "        self.linear = # YOUR CODE HERE                            # classification fully-connected layer, you can add additional layers if you want\n",
        "        self.relu = nn.ReLU()                                      # ReLU activation function\n",
        "\n",
        "    def forward(self, input_id, mask):\n",
        "\n",
        "        _, pooled_output = self.bert(input_ids= input_id, attention_mask=mask,return_dict=False)\n",
        "        dropout_output = self.dropout(pooled_output)\n",
        "        linear_output = self.linear(dropout_output)\n",
        "        final_layer = self.relu(linear_output)\n",
        "\n",
        "        return final_layer"
      ]
    },
    {
      "cell_type": "code",
      "execution_count": null,
      "metadata": {},
      "outputs": [],
      "source": [
        "import sys\n",
        "import os\n",
        "import getpass\n",
        "\n",
        "# before we define our training loop, we create the folder, where we will save our model checkpoints\n",
        "# check if running on Google Colab\n",
        "if 'google.colab' in str(get_ipython()):\n",
        "    \n",
        "    print('Running on Colab')\n",
        "    \n",
        "    # import the Google Colab GDrive connector\n",
        "    from google.colab import drive\n",
        "\n",
        "    # mount GDrive inside the Colab notebook\n",
        "    drive.mount('/content/drive')\n",
        "    \n",
        "    # name Colab Notebooks directory\n",
        "    CHECKPOINT_DIRECTORY = '/content/drive/MyDrive/Colab Notebooks/dsfb2/a3'\n",
        "    \n",
        "else:\n",
        "    # check if running on MacOS\n",
        "    if sys.platform == 'darwin':\n",
        "        print('Running on MacOS')\n",
        "\n",
        "        # get the username\n",
        "        user_name = getpass.getuser()\n",
        "\n",
        "        # name main directory\n",
        "        CHECKPOINT_DIRECTORY = f\"/Users/{user_name}/dsfb2/a3\"\n",
        "\n",
        "    # check if running on Windows\n",
        "    elif sys.platform == 'win32':\n",
        "        print('Running on Windows')\n",
        "\n",
        "        # get the username\n",
        "        user_name = getpass.getuser()\n",
        "\n",
        "        # name main directory\n",
        "        CHECKPOINT_DIRECTORY = f\"C:/Users/{user_name}/dsfb2/a3\"\n",
        "\n",
        "# create the main directory\n",
        "if not os.path.exists(CHECKPOINT_DIRECTORY): os.makedirs(CHECKPOINT_DIRECTORY)\n"
      ]
    },
    {
      "cell_type": "code",
      "execution_count": null,
      "metadata": {
        "id": "pQjEDJNEQPF4"
      },
      "outputs": [],
      "source": [
        "from torch.optim import Adam\n",
        "from tqdm import tqdm\n",
        "import os\n",
        "\n",
        "# function for training and validation\n",
        "def train_validate(model, train_data, val_data, learning_rate, epochs):\n",
        "\n",
        "    # create tokenized datasets for training and validation\n",
        "    train, val = # YOUR CODE HERE\n",
        "\n",
        "    # create loaders for tensors\n",
        "    train_dataloader = torch.utils.data.DataLoader(train, batch_size=TRAIN_BATCH_SIZE, shuffle=True)\n",
        "    val_dataloader = torch.utils.data.DataLoader(val, batch_size=VALID_BATCH_SIZE)\n",
        "\n",
        "    # activate GPU computing\n",
        "    device = torch.device('cuda' if torch.cuda.is_available() else 'mps' if torch.backends.mps.is_available() else 'cpu').type\n",
        "    print('[LOG] notebook with {} computation enabled'.format(str(device)))\n",
        "\n",
        "    # initialize loss function\n",
        "    criterion = # YOUR CODE HERE\n",
        "\n",
        "    # initialize optimizer\n",
        "    optimizer = # YOUR CODE HERE\n",
        "\n",
        "    # send model and loss function to computational device\n",
        "    model = # YOUR CODE HERE\n",
        "    criterion = # YOUR CODE HERE\n",
        "\n",
        "    # initialize empty lists for storing data\n",
        "    history_val_loss=[]     # average training loss for epoch\n",
        "    history_train_loss = [] # average validation loss for epoch\n",
        "    history_val_acc=[]      # training accuracy for epoch\n",
        "    history_train_acc = []  # validation accuracy for epoch\n",
        "\n",
        "    # training and validation cycle\n",
        "    for epoch in range(epochs):\n",
        "\n",
        "        # set the model to the training mode (gradients are updated)\n",
        "        # YOUR CODE HERE\n",
        "\n",
        "        # initialize list for storing loss for each propagation\n",
        "        loss_train = []\n",
        "\n",
        "        # initilize lists for storing actual and predicted labels\n",
        "        train_label_list = []\n",
        "        train_output_list = []\n",
        "\n",
        "################## TRAINING ##################\n",
        "\n",
        "        # get our train input and label tensors for loader, tdqm is just a nice progress bar\n",
        "        for train_input, train_label in tqdm(train_dataloader):\n",
        "\n",
        "            # send training label, attention mask and id to device\n",
        "            train_label = # YOUR CODE HERE\n",
        "            mask =  # YOUR CODE HERE\n",
        "            input_id = # YOUR CODE HERE\n",
        "\n",
        "            # receive predicted label\n",
        "            output = # YOUR CODE HERE\n",
        "\n",
        "            # calculate the loss value between actual and predicted label\n",
        "            batch_loss = # YOUR CODE HERE\n",
        "\n",
        "            # store the loss\n",
        "            loss_train.append(batch_loss.item())\n",
        "\n",
        "            # save actual and predicted values\n",
        "            train_label_list.extend(train_label.cpu().detach().numpy().tolist())\n",
        "            train_output_list.extend(torch.sigmoid(output).cpu().detach().numpy().tolist())\n",
        "\n",
        "            # reset graph gradients\n",
        "            # YOUR CODE HERE\n",
        "\n",
        "            # run backward pass to update the weights\n",
        "            # YOUR CODE HERE\n",
        "\n",
        "            # update network parameters\n",
        "            # YOUR CODE HERE\n",
        "\n",
        "        # calculate average training loss\n",
        "        total_loss_train = np.mean(loss_train)\n",
        "        # append average training loss\n",
        "        history_train_loss.append(total_loss_train)\n",
        "        # calculate training accuracy\n",
        "        acc_train = accuracy_score(np.array(train_label_list).astype(int), np.argmax(np.array(train_output_list), axis=1))\n",
        "        # append training accuracy\n",
        "        history_train_acc.append(acc_train)\n",
        "\n",
        "################## VALIDATION ##################\n",
        "\n",
        "        # initialize list for storing loss for each propagation\n",
        "        loss_val = []\n",
        "\n",
        "        # initialize lists for storing actual and predicted labels\n",
        "        val_label_list = []\n",
        "        val_output_list = []\n",
        "\n",
        "        # set the model to the validation mode (gradients are not updated)\n",
        "        model.eval()\n",
        "\n",
        "        with torch.no_grad():\n",
        "\n",
        "            for val_input, val_label in val_dataloader:\n",
        "\n",
        "                # send validation label, attention mask and id to device\n",
        "                val_label = # YOUR CODE HERE\n",
        "                mask =  # YOUR CODE HERE\n",
        "                input_id =  # YOUR CODE HERE\n",
        "\n",
        "                # receive predicted label\n",
        "                output =  # YOUR CODE HERE\n",
        "\n",
        "                # calculate the loss value between actual and predicted label\n",
        "                batch_loss =  # YOUR CODE HERE\n",
        "\n",
        "                # store the loss\n",
        "                loss_val.append(batch_loss.item())\n",
        "\n",
        "                # save actual and predicted values\n",
        "                val_label_list.extend(val_label.cpu().detach().numpy().tolist())\n",
        "                val_output_list.extend(torch.sigmoid(output).cpu().detach().numpy().tolist())\n",
        "\n",
        "        # calculate average validation loss\n",
        "        total_loss_val = np.mean(loss_val)\n",
        "        # append average validation loss\n",
        "        history_val_loss.append(total_loss_val)\n",
        "        # calculate validation accuracy\n",
        "        acc_val = accuracy_score(np.array(val_label_list).astype(int), np.argmax(np.array(val_output_list), axis=1))\n",
        "        # append validation accuracy\n",
        "        history_val_acc.append(acc_val)\n",
        "\n",
        "        print(f'Epochs: {epoch} | Train Loss: {total_loss_train: .3f} | Train Accuracy: {acc_train: .3f} | Val Loss: {total_loss_val: .3f} | Val Accuracy: {acc_val: .3f}')\n",
        "        model_name = f'{epoch}_tripadvisor_classifier.pth'\n",
        "        model_path = os.path.join(CHECKPOINT_DIRECTORY, model_name)\n",
        "        torch.save(model.state_dict(), model_path)\n",
        "\n",
        "    return history_train_loss, history_val_loss, history_train_acc, history_val_acc\n"
      ]
    },
    {
      "cell_type": "code",
      "execution_count": null,
      "metadata": {
        "id": "KjcKp29GT7HE"
      },
      "outputs": [],
      "source": [
        "# initialize our model\n",
        "# YOUR CODE HERE"
      ]
    },
    {
      "cell_type": "markdown",
      "metadata": {
        "id": "bew0_F0bUQIk"
      },
      "source": [
        "Before training the model, move the code to Azure Labs"
      ]
    },
    {
      "cell_type": "code",
      "execution_count": null,
      "metadata": {},
      "outputs": [],
      "source": [
        "# check that gpu is activated\n",
        "\n",
        "device = torch.device('cuda' if torch.cuda.is_available() else 'mps' if torch.backends.mps.is_available() else 'cpu').type\n",
        "\n",
        "if device == 'cuda':\n",
        "    !nvidia-smi\n",
        "elif device == 'mps':\n",
        "    print('Using Apple M-series SoC GPU accelerator')\n",
        "else:\n",
        "    print('Using CPU')"
      ]
    },
    {
      "cell_type": "code",
      "execution_count": null,
      "metadata": {
        "id": "yk4irJ7qUBZI"
      },
      "outputs": [],
      "source": [
        "# train the model\n",
        "# YOUR CODE HERE"
      ]
    },
    {
      "cell_type": "code",
      "execution_count": null,
      "metadata": {
        "id": "E6FhlzGyUNKs"
      },
      "outputs": [],
      "source": [
        "# ploting the loss\n",
        "# YOUR CODE HERE"
      ]
    },
    {
      "cell_type": "code",
      "execution_count": null,
      "metadata": {
        "id": "YZDiboAXYMlc"
      },
      "outputs": [],
      "source": [
        "# plotting the accuracy\n",
        "# YOUR CODE HERE"
      ]
    },
    {
      "cell_type": "code",
      "execution_count": null,
      "metadata": {
        "id": "9OmoQU2bY-Ld"
      },
      "outputs": [],
      "source": [
        "def evaluate(model, test_data):\n",
        "\n",
        "    # create tokenized dataset\n",
        "    test = # YOUR CODE HERE\n",
        "\n",
        "    # create loaders for tensors\n",
        "    val_dataloader = torch.utils.data.DataLoader(test, batch_size=VALID_BATCH_SIZE)\n",
        "\n",
        "    # activate GPU computing\n",
        "    device = torch.device('cuda' if torch.cuda.is_available() else 'mps' if torch.backends.mps.is_available() else 'cpu').type\n",
        "    print('[LOG] notebook with {} computation enabled'.format(str(device)))\n",
        "\n",
        "    # initialize loss function\n",
        "    criterion =  # YOUR CODE HERE\n",
        "\n",
        "    model =  # YOUR CODE HERE\n",
        "    criterion =  # YOUR CODE HERE\n",
        "\n",
        "    loss_val = []\n",
        "\n",
        "    val_label_list = []\n",
        "    val_output_list = []\n",
        "\n",
        "    # set the model to the validation mode (gradients are not updated)\n",
        "    model.eval()\n",
        "    with torch.no_grad():\n",
        "\n",
        "        for val_input, val_label in val_dataloader:\n",
        "\n",
        "            # send validation label, attention mask and id to device\n",
        "            val_label =  # YOUR CODE HERE\n",
        "            mask =  # YOUR CODE HERE\n",
        "            input_id =  # YOUR CODE HERE\n",
        "\n",
        "            # receive predicted label\n",
        "            output =  # YOUR CODE HERE\n",
        "\n",
        "            # calculate the loss value between actual and predicted label\n",
        "            batch_loss =  # YOUR CODE HERE\n",
        "            loss_val.append(batch_loss.item())\n",
        "\n",
        "            # store the loss\n",
        "            val_label_list.extend(val_label.cpu().detach().numpy().tolist())\n",
        "            val_output_list.extend(torch.sigmoid(output).cpu().detach().numpy().tolist())\n",
        "\n",
        "        # save actual and predicted values\n",
        "        total_loss_val = np.mean(loss_val)\n",
        "        acc_val = accuracy_score(np.array(val_label_list).astype(int), np.argmax(np.array(val_output_list), axis=1))\n",
        "\n",
        "    print(f'Test Accuracy: {acc_val: .3f}')\n",
        "\n",
        "    # return actual and predicted values\n",
        "    return np.array(val_label_list).astype(int), np.argmax(np.array(val_output_list), axis=1)"
      ]
    },
    {
      "cell_type": "code",
      "execution_count": null,
      "metadata": {
        "id": "_BAhqSfZY6Ik"
      },
      "outputs": [],
      "source": [
        "# load saved state\n",
        "# YOUR CODE HERE"
      ]
    },
    {
      "cell_type": "code",
      "execution_count": null,
      "metadata": {
        "id": "ri2Xn4ymaO8c"
      },
      "outputs": [],
      "source": [
        "# evaluate model\n",
        "# YOUR CODE HERE"
      ]
    },
    {
      "cell_type": "code",
      "execution_count": null,
      "metadata": {
        "id": "6YRX8ukzac9j"
      },
      "outputs": [],
      "source": [
        "# create classification report\n",
        "# YOUR CODE HERE"
      ]
    },
    {
      "cell_type": "code",
      "execution_count": null,
      "metadata": {
        "id": "pAMhxQRGakcy"
      },
      "outputs": [],
      "source": [
        "# create confusion matrix\n",
        "# YOUR CODE HERE"
      ]
    }
  ],
  "metadata": {
    "accelerator": "GPU",
    "colab": {
      "gpuType": "T4",
      "provenance": []
    },
    "kernelspec": {
      "display_name": "Python 3",
      "name": "python3"
    },
    "language_info": {
      "name": "python"
    }
  },
  "nbformat": 4,
  "nbformat_minor": 0
}
