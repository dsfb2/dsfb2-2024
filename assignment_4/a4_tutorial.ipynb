{
 "cells": [
  {
   "cell_type": "markdown",
   "metadata": {
    "id": "dSxUHnuPpbo1"
   },
   "source": [
    "# IML and xAI with SHAP\n",
    "\n",
    "In this tutorial we will try to obtain explanations for the black-box/non-interpretable models using **[shap](https://shap.readthedocs.io/en/latest/) (SHapley Additive exPlanations)**. We will cover the basics of shap usage with the examples on tabular, image and text data."
   ]
  },
  {
   "cell_type": "markdown",
   "metadata": {
    "id": "MBiKg1FksLWk"
   },
   "source": [
    "## Tabular data\n",
    "\n",
    "For the tabular data example we will apply [XGBoost](https://xgboost.readthedocs.io/en/stable/python/index.html) on [California Housing Dataset](https://scikit-learn.org/stable/modules/generated/sklearn.datasets.fetch_california_housing.html) to obtain the predictions of house prices. The explanations on how the prices of houses in particulare blocks are obtained are provided with the help of SHAP."
   ]
  },
  {
   "cell_type": "code",
   "execution_count": null,
   "metadata": {
    "id": "xd5aER2jtJmu"
   },
   "outputs": [],
   "source": [
    "# install shap\n",
    "!pip install shap xgboost"
   ]
  },
  {
   "cell_type": "code",
   "execution_count": null,
   "metadata": {
    "id": "xbmt1PgBsKyH"
   },
   "outputs": [],
   "source": [
    "# import dependencies\n",
    "import pandas as pd\n",
    "import numpy as np\n",
    "import xgboost as xgb\n",
    "from sklearn.datasets import fetch_california_housing\n",
    "from sklearn.metrics import mean_squared_error,r2_score\n",
    "from sklearn.model_selection import KFold\n",
    "import matplotlib.pyplot as plt\n",
    "\n",
    "import shap\n",
    "\n",
    "%matplotlib inline\n",
    "%config InlineBackend.figure_format = 'retina'\n",
    "np.random.seed(42)"
   ]
  },
  {
   "cell_type": "code",
   "execution_count": null,
   "metadata": {
    "id": "6pJN9tenpTY2"
   },
   "outputs": [],
   "source": [
    "# obtain the dataset for examination\n",
    "# the dataframe is a standard one provided by scikit-learn\n",
    "california_housing = fetch_california_housing(as_frame=True)"
   ]
  },
  {
   "cell_type": "code",
   "execution_count": null,
   "metadata": {
    "id": "AICPnbKtttaD"
   },
   "outputs": [],
   "source": [
    "# print out the dataset description using the class descriptor\n",
    "print(california_housing.DESCR)"
   ]
  },
  {
   "cell_type": "code",
   "execution_count": null,
   "metadata": {
    "id": "93L-gxOXuAyB"
   },
   "outputs": [],
   "source": [
    "# examine the dataset\n",
    "california_housing.frame.head()"
   ]
  },
  {
   "cell_type": "code",
   "execution_count": null,
   "metadata": {
    "id": "W4gAwnI0uVYR"
   },
   "outputs": [],
   "source": [
    "# look into the histograms of features\n",
    "california_housing.frame.hist(figsize=(12, 10), bins=30, edgecolor=\"black\")\n",
    "plt.subplots_adjust(hspace=0.7, wspace=0.4)"
   ]
  },
  {
   "cell_type": "markdown",
   "metadata": {
    "id": "u1Vd3iwDu54Z"
   },
   "source": [
    "For the sake of the tutorial we will not perform any manipulations with data, although there should be some correlated variables, as the purpose is to look into explainability of the model."
   ]
  },
  {
   "cell_type": "code",
   "execution_count": null,
   "metadata": {
    "id": "TMeyumpHuo9R"
   },
   "outputs": [],
   "source": [
    "# load the separated features and targets\n",
    "X_tab, y_tab = fetch_california_housing(return_X_y=True, as_frame=True)"
   ]
  },
  {
   "cell_type": "markdown",
   "metadata": {
    "id": "DSNnFRykIfuL"
   },
   "source": [
    "It is not necessary to perform the train_test_split to obtain shaply values. We just need a dataset and a model, that has been fitted to this dataset."
   ]
  },
  {
   "cell_type": "code",
   "execution_count": null,
   "metadata": {
    "id": "R1K3tjySvWEy"
   },
   "outputs": [],
   "source": [
    "# create XGBoost instance, parameters have been taken arbitraly to provide rather good performance\n",
    "xgb = xgb.XGBRegressor(colsample_bytree = 1, eta=0.3, learning_rate = 0.1, max_depth = 5, alpha = 10, n_estimators = 2000)\n",
    "\n",
    "# fit model to data\n",
    "xgb.fit(X_tab, y_tab)\n",
    "\n",
    "# make predictions on the same set to assess train performance\n",
    "predictions = xgb.predict(X_tab)\n",
    "\n",
    "print(f'Train MSE: {mean_squared_error(y_tab, predictions):.4f}')\n",
    "print(f'Train R-Squared: {r2_score(y_tab, predictions):.4f}')"
   ]
  },
  {
   "cell_type": "markdown",
   "metadata": {
    "id": "yTkD9oDuU5co"
   },
   "source": [
    "Here comes the most interesting part: generation of shapley values to explain the predictions. `shap` library contains many types of [explainers](https://shap.readthedocs.io/en/latest/api.html#explainers) for different kind of models, but we will focus on the following three:\n",
    "- [Explainer](https://shap.readthedocs.io/en/latest/generated/shap.Explainer.html#shap.Explainer) (a universal method to explain any ML model)\n",
    "- [TreeExplainer](https://shap.readthedocs.io/en/latest/generated/shap.TreeExplainer.html) (to explain the output of ensemble tree models)\n",
    "- [DeepExplainer](https://shap.readthedocs.io/en/latest/generated/shap.DeepExplainer.html) (to approximate SHAP values for deep learning models)\n"
   ]
  },
  {
   "cell_type": "markdown",
   "metadata": {
    "id": "L0N4AU0gYVCo"
   },
   "source": [
    "Predictibly, we will use TreeExplainer to obtain explanations for the XGBoost instance we've created above."
   ]
  },
  {
   "cell_type": "code",
   "execution_count": null,
   "metadata": {
    "id": "8bISPDSBvW5P"
   },
   "outputs": [],
   "source": [
    "# initialize the explainer with the model instance being the parameter\n",
    "explainer_tab = shap.TreeExplainer(xgb)\n",
    "\n",
    "# calculate approximate shapley values using our dataset of features\n",
    "shap_values_tab = explainer_tab(X_tab)"
   ]
  },
  {
   "cell_type": "markdown",
   "metadata": {
    "id": "PlRokvWrZRay"
   },
   "source": [
    "How can we explain the shapley value: **Given the current set of feature values**, the contribution of a feature value to the difference between the actual prediction and the mean prediction is the estimated Shapley value.\n",
    "\n",
    "The Shapley value is **NOT** the difference in prediction when we would remove the feature from the model.\n",
    "\n",
    "The Shapley value returns a simple value per feature, but no prediction model like. It cannot be used to make statements about changes in prediction for changes in the input.\n"
   ]
  },
  {
   "cell_type": "code",
   "execution_count": null,
   "metadata": {
    "id": "2RiujpwMw1kD"
   },
   "outputs": [],
   "source": [
    "# plot the explanation for a particular observation\n",
    "shap.plots.waterfall(shap_values_tab[0])"
   ]
  },
  {
   "cell_type": "code",
   "execution_count": null,
   "metadata": {
    "id": "7qC3JLU9549R"
   },
   "outputs": [],
   "source": [
    "# initialize the necessary javascript libraries for interactive plots (in Google Colab should be used in every cell)\n",
    "shap.plots.initjs()\n",
    "\n",
    "# visualize the first prediction's explanation with a force plot\n",
    "shap.plots.force(shap_values_tab[0])"
   ]
  },
  {
   "cell_type": "code",
   "execution_count": null,
   "metadata": {
    "id": "YVtNuESu55_8"
   },
   "outputs": [],
   "source": [
    "# initialize the necessary javascript libraries for interactive plots\n",
    "shap.plots.initjs()\n",
    "\n",
    "# visualize force plot for many observations\n",
    "shap.plots.force(shap_values_tab[:50])"
   ]
  },
  {
   "cell_type": "markdown",
   "metadata": {
    "id": "SaCeNbY3bPd4"
   },
   "source": [
    "Average shapley values could be used as a global method to understand which features have the highest impact on the target variable. Note: the mean of *absolute* values is plotted."
   ]
  },
  {
   "cell_type": "code",
   "execution_count": null,
   "metadata": {
    "id": "DLNDk34x8XbS"
   },
   "outputs": [],
   "source": [
    "# average shap values\n",
    "shap.plots.bar(shap_values_tab)"
   ]
  },
  {
   "cell_type": "markdown",
   "metadata": {
    "id": "C38qDOyN97L7"
   },
   "source": [
    "## Images"
   ]
  },
  {
   "cell_type": "markdown",
   "metadata": {
    "id": "FAcmCNJ9bsFe"
   },
   "source": [
    "For the image explanation example we will use the same model as in Tutorial 2 with a small change: for ReLU layers the `inplace=False` is sey so that outputs of the ReLU were not overwriting the output of the previous action."
   ]
  },
  {
   "cell_type": "code",
   "execution_count": null,
   "metadata": {},
   "outputs": [],
   "source": [
    "!pip install torch torchvision"
   ]
  },
  {
   "cell_type": "code",
   "execution_count": null,
   "metadata": {
    "id": "m6zkRkGVeiPl"
   },
   "outputs": [],
   "source": [
    "import torch\n",
    "import torchvision\n",
    "import torchvision.transforms as transforms\n",
    "\n",
    "import torch.nn as nn\n",
    "import torch.nn.functional as F\n",
    "import torch.optim as optim\n",
    "\n",
    "torch.manual_seed(42)"
   ]
  },
  {
   "cell_type": "code",
   "execution_count": null,
   "metadata": {
    "id": "3P3A2NBieSfs"
   },
   "outputs": [],
   "source": [
    "class FashionNet(nn.Module):\n",
    "    def __init__(self):\n",
    "        super(FashionNet, self).__init__()\n",
    "\n",
    "        self.convolutional_layer = nn.Sequential(\n",
    "\n",
    "            # convolutional layer 1\n",
    "            nn.Conv2d(in_channels=1, out_channels=10, kernel_size=5, padding=0),\n",
    "            nn.BatchNorm2d(10),\n",
    "            nn.ReLU(inplace=False), # here is the change\n",
    "\n",
    "            # max pooling layer 1\n",
    "            nn.MaxPool2d(kernel_size=2, stride=2),\n",
    "\n",
    "            # convolutional layer 2\n",
    "            nn.Conv2d(in_channels=10, out_channels=20, kernel_size=5, padding=0),\n",
    "            nn.BatchNorm2d(20),\n",
    "            nn.ReLU(inplace=False), # here is the change\n",
    "\n",
    "            # max pooling layer 2\n",
    "            nn.MaxPool2d(kernel_size=2, stride=2),\n",
    "        )\n",
    "\n",
    "        self.linear_layer = nn.Sequential(\n",
    "            nn.Linear(in_features=20*4*4, out_features=80),\n",
    "            nn.ReLU(inplace=False), # here is the change\n",
    "            nn.Linear(in_features=80, out_features=10),\n",
    "        )\n",
    "\n",
    "    def forward(self, x, verbose=False):\n",
    "        \"\"\"\n",
    "        Args:\n",
    "          x of shape (batch_size, 1, 28, 28): Input images.\n",
    "          verbose: True if you want to print the shapes of the intermediate variables.\n",
    "\n",
    "        Returns:\n",
    "          y of shape (batch_size, 10): Outputs of the network.\n",
    "        \"\"\"\n",
    "        x = self.convolutional_layer(x)\n",
    "        x = x.view(-1, 20*4*4)\n",
    "        x = self.linear_layer(x)\n",
    "        return x"
   ]
  },
  {
   "cell_type": "code",
   "execution_count": null,
   "metadata": {},
   "outputs": [],
   "source": [
    "import sys\n",
    "import os\n",
    "import getpass\n",
    "\n",
    "# define the main directory\n",
    "# check if running on Google Colab\n",
    "if 'google.colab' in str(get_ipython()):\n",
    "    \n",
    "    print('Running on Colab')\n",
    "    \n",
    "    # import the Google Colab GDrive connector\n",
    "    from google.colab import drive\n",
    "\n",
    "    # mount GDrive inside the Colab notebook\n",
    "    drive.mount('/content/drive')\n",
    "    \n",
    "    # name Colab Notebooks directory\n",
    "    main_directory = '/content/drive/MyDrive/Colab Notebooks/dsfb2/a4_tutorial'\n",
    "    \n",
    "else:\n",
    "    # check if running on MacOS\n",
    "    if sys.platform == 'darwin':\n",
    "        print('Running on MacOS')\n",
    "\n",
    "        # get the username\n",
    "        user_name = getpass.getuser()\n",
    "\n",
    "        # name main directory\n",
    "        main_directory = f\"/Users/{user_name}/dsfb2/a4_tutorial\"\n",
    "\n",
    "    # check if running on Windows\n",
    "    elif sys.platform == 'win32':\n",
    "        print('Running on Windows')\n",
    "\n",
    "        # get the username\n",
    "        user_name = getpass.getuser()\n",
    "\n",
    "        # name main directory\n",
    "        main_directory = f\"C:/Users/{user_name}/dsfb2/a4_tutorial\"\n",
    "\n",
    "# create the main directory\n",
    "if not os.path.exists(main_directory): os.makedirs(main_directory)\n"
   ]
  },
  {
   "cell_type": "code",
   "execution_count": null,
   "metadata": {
    "id": "adafXeN4-WYV"
   },
   "outputs": [],
   "source": [
    "transform = transforms.Compose([\n",
    "    transforms.ToTensor(),  # Transform to tensor\n",
    "    transforms.Normalize((0.5,), (0.5,))  # Scale images to [-1, 1]\n",
    "])\n",
    "\n",
    "# download the dataset\n",
    "testset = torchvision.datasets.FashionMNIST(root=main_directory, train=False, download=True, transform=transform)\n",
    "\n",
    "# define the labels of the images\n",
    "classes = ['T-shirt/top', 'Trouser', 'Pullover', 'Dress', 'Coat', 'Sandal',\n",
    "           'Shirt', 'Sneaker', 'Bag', 'Ankle boot']\n",
    "\n",
    "# specify the batch size for training and test\n",
    "testloader = torch.utils.data.DataLoader(testset, batch_size=5, shuffle=False)"
   ]
  },
  {
   "cell_type": "code",
   "execution_count": null,
   "metadata": {
    "id": "so1VxfN9tkn1"
   },
   "outputs": [],
   "source": [
    "# download the pre-saved checkpoint from GitHub, the file name will be 'fashion_net.pth'\n",
    "import requests\n",
    "r = requests.get('https://github.com/dsfb2/dsfb2-2024/raw/refs/heads/main/assignment_4/fashion_net.pth')\n",
    "\n",
    "with open(os.path.join(main_directory, 'fashion_net.pth'), 'wb') as f:\n",
    "    f.write(r.content)\n"
   ]
  },
  {
   "cell_type": "code",
   "execution_count": null,
   "metadata": {
    "id": "Mr3JG9Wke5Hi"
   },
   "outputs": [],
   "source": [
    "# initialize our network\n",
    "model_image = FashionNet()\n",
    "\n",
    "# load trained models\n",
    "model_image.load_state_dict(torch.load('fashion_net.pth', map_location=torch.device('cpu')))"
   ]
  },
  {
   "cell_type": "code",
   "execution_count": null,
   "metadata": {
    "id": "kgHQlgLy8rOX"
   },
   "outputs": [],
   "source": [
    "# create a loader with a batch of images\n",
    "test_loader = torch.utils.data.DataLoader(testset, batch_size=128, shuffle=True)\n",
    "images, true_labels = next(iter(test_loader))\n",
    "\n",
    "# train images will be used to calculate the approximate shapley values\n",
    "background = images[np.random.choice(images.shape[0], 100, replace=False)]\n",
    "\n",
    "# images to assess shapley values\n",
    "# make sure that the sum of train and test images are less than the batch_size\n",
    "test_images = images[120:125]\n",
    "\n",
    "# initialize the DeepExplainer with the model instance and images for training being the parameters\n",
    "explainer_img = shap.DeepExplainer(model_image, background)\n",
    "\n",
    "# calculate approximate shapley values using our test dataset\n",
    "shap_values_img = explainer_img.shap_values(test_images)"
   ]
  },
  {
   "cell_type": "code",
   "execution_count": null,
   "metadata": {},
   "outputs": [],
   "source": [
    "# reshape arrays for proper visualization\n",
    "shap_numpy = list(np.transpose(shap_values_img, (4, 0, 2, 3, 1)))\n",
    "test_numpy = np.swapaxes(np.swapaxes(test_images.numpy(), 1, -1), 1, 2)\n"
   ]
  },
  {
   "cell_type": "code",
   "execution_count": null,
   "metadata": {
    "id": "Cwm57Wwr984J"
   },
   "outputs": [],
   "source": [
    "# create labels for vizualizations\n",
    "classes_labels = np.array(classes)\n",
    "for i in range(len(test_images)-1):\n",
    "    classes_labels = np.vstack([np.array(classes), classes_labels])\n",
    "\n",
    "# create true labels for vizualizations\n",
    "tl = [classes[idx] for idx in true_labels[120:125].numpy()]\n"
   ]
  },
  {
   "cell_type": "code",
   "execution_count": null,
   "metadata": {},
   "outputs": [],
   "source": [
    "# vizualize\n",
    "shap.image_plot(shap_numpy,-test_numpy, true_labels=tl, labels = classes_labels)"
   ]
  },
  {
   "cell_type": "markdown",
   "metadata": {
    "id": "Bqgc8ANXfh4S"
   },
   "source": [
    "We can see how each pixel contributes to the determination whether the picture belongs to a particular class. Using the same library it is possible to obtain explanations for particular layers of NN and partition the picture in some other manner."
   ]
  },
  {
   "cell_type": "markdown",
   "metadata": {
    "id": "EhMWK9CHDm7O"
   },
   "source": [
    "## Text"
   ]
  },
  {
   "cell_type": "markdown",
   "metadata": {
    "id": "RwVw_Vw4gGZ7"
   },
   "source": [
    "For the text data we will see how particular words contribute to the classification of the text sequence. We will use a pre-trained transformer classification model from [hugginface](https://huggingface.co/nateraw/bert-base-uncased-emotion) and the [emotions dataset](https://huggingface.co/datasets/SetFit/emotion/)"
   ]
  },
  {
   "cell_type": "code",
   "execution_count": null,
   "metadata": {
    "id": "6o5477B4DzRM"
   },
   "outputs": [],
   "source": [
    "!pip install datasets transformers"
   ]
  },
  {
   "cell_type": "code",
   "execution_count": null,
   "metadata": {
    "id": "fI96UsZIDb8D"
   },
   "outputs": [],
   "source": [
    "# import the dependencies\n",
    "import datasets\n",
    "import scipy as sp\n",
    "import transformers"
   ]
  },
  {
   "cell_type": "code",
   "execution_count": null,
   "metadata": {
    "id": "Dlz5Q-aaDwSj"
   },
   "outputs": [],
   "source": [
    "# load the emotion dataset\n",
    "dataset_txt = datasets.load_dataset(\"emotion\", split=\"train\")\n",
    "data_txt = pd.DataFrame({\"text\": dataset_txt[\"text\"], \"emotion\": dataset_txt[\"label\"]})"
   ]
  },
  {
   "cell_type": "code",
   "execution_count": null,
   "metadata": {
    "id": "-9ST13jpENh-"
   },
   "outputs": [],
   "source": [
    "# load the model and tokenizer\n",
    "tokenizer = transformers.AutoTokenizer.from_pretrained(\"nateraw/bert-base-uncased-emotion\", use_fast=True)\n",
    "model_txt = transformers.AutoModelForSequenceClassification.from_pretrained(\"nateraw/bert-base-uncased-emotion\")\n",
    "\n",
    "# extract labels\n",
    "labels = sorted(model_txt.config.label2id, key=model_txt.config.label2id.get)\n",
    "\n",
    "# send model to cpu\n",
    "model_txt.to('cpu')\n",
    "\n",
    "print(f'Emotions for classification: {labels}')"
   ]
  },
  {
   "cell_type": "code",
   "execution_count": null,
   "metadata": {
    "id": "vwGWx0RghArT"
   },
   "outputs": [],
   "source": [
    "# this defines a that takes a list of strings and outputs scores for each class\n",
    "def f(texts):\n",
    "    # create a tensor from the list of sequences and send it to cpu\n",
    "    tv = torch.tensor(\n",
    "        [\n",
    "            tokenizer.encode(text, padding=\"max_length\", max_length=128, truncation=True)\n",
    "            for text in texts\n",
    "        ]\n",
    "    ).cpu()\n",
    "    # create attention mask and send it to cpu\n",
    "    attention_mask = (tv != 0).type(torch.int64).cpu()\n",
    "\n",
    "    # calculate model output\n",
    "    outputs = model_txt(tv, attention_mask=attention_mask)[0].detach().cpu().numpy()\n",
    "\n",
    "    # calculate the scores for each class\n",
    "    scores = (np.exp(outputs).T / np.exp(outputs).sum(-1)).T\n",
    "\n",
    "    # calculate the probabilities that the sequences belongs to the class\n",
    "    val = sp.special.logit(scores)\n",
    "\n",
    "    return val"
   ]
  },
  {
   "cell_type": "code",
   "execution_count": null,
   "metadata": {
    "id": "XFPCGYhhEOUV"
   },
   "outputs": [],
   "source": [
    "method = \"transformers tokenizer\"\n",
    "\n",
    "# build an explainer by passing a transformers tokenizer\n",
    "if method == \"transformers tokenizer\":\n",
    "    explainer_txt = shap.Explainer(f, tokenizer, output_names=labels)\n",
    "\n",
    "# build an explainer by explicitly creating a masker\n",
    "elif method == \"default masker\":\n",
    "    masker = shap.maskers.Text(r\"\\W\")  # this will create a basic whitespace tokenizer\n",
    "    explainer_txt = shap.Explainer(f, masker, output_names=labels)"
   ]
  },
  {
   "cell_type": "code",
   "execution_count": null,
   "metadata": {
    "id": "49YIncrZER9H"
   },
   "outputs": [],
   "source": [
    "# calculate shapley values for the test data\n",
    "shap_values_txt = explainer_txt(data_txt[\"text\"][:3])"
   ]
  },
  {
   "cell_type": "code",
   "execution_count": null,
   "metadata": {
    "id": "W3PvpZXSETul"
   },
   "outputs": [],
   "source": [
    "# visualize\n",
    "shap.plots.text(shap_values_txt)"
   ]
  },
  {
   "cell_type": "markdown",
   "metadata": {
    "id": "m16pcYB1jCUg"
   },
   "source": [
    "Using shap it is possible to see how each particular word contributes to the identification of class"
   ]
  }
 ],
 "metadata": {
  "colab": {
   "provenance": []
  },
  "kernelspec": {
   "display_name": "cqrtraffic",
   "language": "python",
   "name": "python3"
  },
  "language_info": {
   "codemirror_mode": {
    "name": "ipython",
    "version": 3
   },
   "file_extension": ".py",
   "mimetype": "text/x-python",
   "name": "python",
   "nbconvert_exporter": "python",
   "pygments_lexer": "ipython3",
   "version": "3.9.12"
  }
 },
 "nbformat": 4,
 "nbformat_minor": 0
}
